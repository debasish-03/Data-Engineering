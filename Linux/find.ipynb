{
 "cells": [
  {
   "cell_type": "markdown",
   "metadata": {},
   "source": [
    "# find\n",
    "\n",
    "The find command in Linux is a powerful utility to search for files and directories based on various criteria like name, type, permissions, size, date, and more. It is recursive by default and can perform actions on the matched items.\n",
    "\n",
    "Basic Syntax\n",
    "\n",
    "find [path...] [options] [expression]\n",
    "\n",
    "\n",
    "   - path: The directory to search (default is . for the current directory).\n",
    "   - options: Various flags to modify behavior (e.g., -name, -type).\n",
    "   - expression: Specifies the criteria to match and actions to take.\n"
   ]
  },
  {
   "cell_type": "markdown",
   "metadata": {},
   "source": [
    "#### Key Options and Examples:\n",
    "\n",
    "1. Find Files by Name\n",
    "\n",
    "find /path/to/search -name \"filename\"\n",
    "\n",
    "Matches files with the exact name filename.\n",
    "\n",
    "Case-Insensitive Search:\n",
    "\n",
    "find /path/to/search -iname \"filename\"\n",
    "\n",
    "Matches filename, FileName, or FILENAME.\n",
    "\n",
    "Wildcard Patterns:\n",
    "\n",
    "find /path/to/search -name \"*.txt\"\n",
    "\n",
    "Matches all .txt files.\n",
    "\n",
    "2. Find by File Type\n",
    "\n",
    "find /path/to/search -type f\n",
    "\n",
    "Finds regular files.\n",
    "\n",
    "find /path/to/search -type d\n",
    "\n",
    "Finds directories.\n",
    "\n",
    "Other types:\n",
    "\n",
    "   - b: Block special device files.\n",
    "   - c: Character special device files.\n",
    "   - l: Symbolic links.\n",
    "   - p: Named pipes.\n",
    "   - s: Sockets.\n",
    "\n",
    "3. Find by Size\n",
    "\n",
    "find /path/to/search -size +10M\n",
    "\n",
    "Finds files larger than 10 MB.\n",
    "\n",
    "find /path/to/search -size -1k\n",
    "\n",
    "Finds files smaller than 1 KB.\n",
    "\n",
    "Size units:\n",
    "   - k: Kilobytes.\n",
    "   - M: Megabytes.\n",
    "   - G: Gigabytes.\n"
   ]
  },
  {
   "cell_type": "markdown",
   "metadata": {},
   "source": [
    "#### 4. Find by Modification/Access Time\n",
    "\n",
    "find /path/to/search -mtime -7\n",
    "\n",
    "Finds files modified in the last 7 days.\n",
    "\n",
    "find /path/to/search -atime +30\n",
    "\n",
    "Finds files accessed more than 30 days ago.\n",
    "\n",
    "Time options:\n",
    "\n",
    "   - -mtime: Modified time.\n",
    "   - -atime: Access time.\n",
    "   - -ctime: Change time (metadata or permissions).\n"
   ]
  },
  {
   "cell_type": "markdown",
   "metadata": {},
   "source": [
    "#### 5. Find by Permissions\n",
    "\n",
    "find /path/to/search -perm 644\n",
    "\n",
    "Finds files with permissions 644.\n",
    "\n",
    "find /path/to/search -perm -u=x\n",
    "\n",
    "Finds files where the user has execute permission.\n",
    "\n",
    "find /path/to/search ! -perm 777\n",
    "\n",
    "Finds files that do not have 777 permissions.\n"
   ]
  },
  {
   "cell_type": "markdown",
   "metadata": {},
   "source": [
    "#### 6. Find Empty Files or Directories\n",
    "\n",
    "find /path/to/search -empty\n",
    "\n",
    "Finds empty files and directories."
   ]
  },
  {
   "cell_type": "markdown",
   "metadata": {},
   "source": [
    "### 7. Combine Multiple Conditions\n",
    "\n",
    "Use logical operators:\n",
    "\n",
    "   - -and (or -a): Both conditions must match.\n",
    "   - -or (or -o): Either condition matches.\n",
    "   - !: Negation.\n",
    "\n",
    "Examples:\n",
    "\n",
    "find /path/to/search -type f -name \"*.log\" -and -size +1M\n",
    "\n",
    "Finds .log files larger than 1 MB.\n",
    "\n",
    "find /path/to/search -type d -or -type l\n",
    "\n",
    "Finds directories or symbolic links.\n",
    "\n",
    "find /path/to/search ! -name \"*.tmp\"\n",
    "\n",
    "Excludes .tmp files."
   ]
  },
  {
   "cell_type": "markdown",
   "metadata": {},
   "source": [
    "# 8.Execute Commands on Found Items\n",
    "\n",
    "find /path/to/search -type f -name \"*.log\" -exec rm {} \\;\n",
    "\n",
    "Deletes all .log files.\n",
    "\n",
    "find /path/to/search -type f -exec chmod 644 {} \\;\n",
    "\n",
    "Changes permissions of all files to 644."
   ]
  },
  {
   "cell_type": "markdown",
   "metadata": {},
   "source": [
    "# 9. Find and Print Only the Path\n",
    "\n",
    "find /path/to/search -type f -name \"*.txt\" -print\n",
    "\n",
    "Displays the paths of .txt files.\n"
   ]
  },
  {
   "cell_type": "markdown",
   "metadata": {},
   "source": [
    "### 10.Advanced Use Cases\n",
    "\n",
    "10. Find Recently Changed Files\n",
    "\n",
    "find /path/to/search -cmin -30\n",
    "\n",
    "Finds files changed in the last 30 minutes.\n",
    "\n",
    "11. Find Files Owned by a User\n",
    "\n",
    "find /path/to/search -user username\n",
    "\n",
    "Finds files owned by username.\n",
    "\n",
    "12. Find Files Belonging to a Group\n",
    "\n",
    "find /path/to/search -group groupname\n",
    "\n",
    "Finds files belonging to groupname.\n",
    "\n",
    "13. Exclude Specific Directories\n",
    "\n",
    "find /path/to/search -path \"./dir_to_exclude\" -prune -o -type f -name \"*.txt\" -print\n",
    "\n",
    "Skips searching in dir_to_exclude while looking for .txt files.\n",
    "\n",
    "14. Find Files by Inode Number\n",
    "\n",
    "find /path/to/search -inum 12345\n",
    "\n",
    "Finds files with inode number 12345.\n",
    "\n",
    "15. Find Hard Links\n",
    "\n",
    "find /path/to/search -samefile file.txt\n",
    "\n",
    "Finds all files that share the same inode as file.txt."
   ]
  },
  {
   "cell_type": "markdown",
   "metadata": {},
   "source": [
    "# 11.Find Files and Compress Them\n",
    "\n",
    "find /path/to/search -type f -name \"*.log\" -exec gzip {} \\;\n",
    "\n",
    "Compresses all .log files using gzip."
   ]
  },
  {
   "cell_type": "markdown",
   "metadata": {},
   "source": [
    "# 12. Optimization Options\n",
    "\n",
    "Limit Depth of Search\n",
    "\n",
    "find /path/to/search -maxdepth 2 -type f\n",
    "\n",
    "Searches only up to 2 levels of directories.\n",
    "\n",
    "Search from a Specific Depth\n",
    "\n",
    "find /path/to/search -mindepth 2 -type f\n",
    "\n",
    "Skips the first level and starts searching from the second level.\n"
   ]
  },
  {
   "cell_type": "markdown",
   "metadata": {},
   "source": [
    "# 13. Practical Examples\n",
    "\n",
    "1. Delete All Files with .tmp Extension\n",
    "\n",
    "find /path/to/search -type f -name \"*.tmp\" -delete\n",
    "\n",
    "2. Find and Archive All .txt Files\n",
    "\n",
    "find /path/to/search -type f -name \"*.txt\" -exec tar -rvf archive.tar {} \\;\n",
    "\n",
    "3. List Large Files (>1 GB)\n",
    "\n",
    "find /path/to/search -type f -size +1G -exec ls -lh {} \\;\n",
    "\n",
    "4. Find and Count Matching Files\n",
    "\n",
    "find /path/to/search -type f -name \"*.py\" | wc -l\n"
   ]
  },
  {
   "cell_type": "markdown",
   "metadata": {},
   "source": [
    "The find command is incredibly versatile and can handle a wide range of file and directory searches. Mastering it enables efficient file management and automation on Unix/Linux systems!"
   ]
  },
  {
   "cell_type": "markdown",
   "metadata": {},
   "source": []
  }
 ],
 "metadata": {
  "language_info": {
   "name": "python"
  }
 },
 "nbformat": 4,
 "nbformat_minor": 2
}
