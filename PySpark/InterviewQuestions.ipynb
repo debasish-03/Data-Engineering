{
 "cells": [
  {
   "cell_type": "markdown",
   "metadata": {},
   "source": [
    "### Q1. [User with Most Approved Flags](https://platform.stratascratch.com/coding/2104-user-with-most-approved-flags/official-solution?code_type=6)\n"
   ]
  },
  {
   "cell_type": "code",
   "execution_count": 2,
   "metadata": {},
   "outputs": [],
   "source": [
    "import os\n",
    "import sys\n",
    "\n",
    "os.environ['PYSPARK_PYTHON'] = sys.executable\n",
    "os.environ['PYSPARK_DRIVER_PYTHON'] = sys.executable\n",
    "\n",
    "from pyspark.sql import SparkSession\n",
    "from pyspark.sql import SparkSession\n",
    "\n",
    "\n",
    "# Creating a spark session\n",
    "spark = SparkSession.builder.appName('SparkLearning').getOrCreate()"
   ]
  },
  {
   "cell_type": "code",
   "execution_count": 3,
   "metadata": {},
   "outputs": [],
   "source": [
    "# Import your libraries\n",
    "import pyspark\n",
    "from pyspark.sql import functions as F\n",
    "from pyspark.sql.types import StringType, BooleanType, StructField, StructType, DateType\n",
    "from pyspark.sql.window import Window"
   ]
  },
  {
   "cell_type": "code",
   "execution_count": 9,
   "metadata": {},
   "outputs": [
    {
     "name": "stdout",
     "output_type": "stream",
     "text": [
      "root\n",
      " |-- user_firstname: string (nullable = true)\n",
      " |-- user_lastname: string (nullable = true)\n",
      " |-- video_id: string (nullable = true)\n",
      " |-- flag_id: string (nullable = true)\n",
      "\n",
      "root\n",
      " |-- flag_id: string (nullable = true)\n",
      " |-- reviewed_by_yt: boolean (nullable = true)\n",
      " |-- reviewed_date: date (nullable = true)\n",
      " |-- reviewed_outcome: string (nullable = true)\n",
      "\n"
     ]
    }
   ],
   "source": [
    "# DataFrames\n",
    "user_flags_schema = StructType([\n",
    "    StructField(\"user_firstname\", StringType(), nullable=True),\n",
    "    StructField(\"user_lastname\", StringType(), nullable=True),\n",
    "    StructField(\"video_id\", StringType(), nullable=True),\n",
    "    StructField(\"flag_id\", StringType(), nullable=True)\n",
    "])\n",
    "\n",
    "flag_review_schema = StructType([\n",
    "    StructField(\"flag_id\", StringType(), nullable=True),\n",
    "    StructField(\"reviewed_by_yt\", BooleanType(), nullable=True),\n",
    "    StructField(\"reviewed_date\", DateType(), nullable=True),\n",
    "    StructField(\"reviewed_outcome\", StringType(), nullable=True)\n",
    "])\n",
    "\n",
    "user_flags = spark.createDataFrame([], schema=user_flags_schema)\n",
    "user_flags.printSchema()\n",
    "\n",
    "flag_review = spark.createDataFrame([], schema=flag_review_schema)\n",
    "flag_review.printSchema()"
   ]
  },
  {
   "cell_type": "code",
   "execution_count": 10,
   "metadata": {},
   "outputs": [
    {
     "name": "stdout",
     "output_type": "stream",
     "text": [
      "+--------+\n",
      "|username|\n",
      "+--------+\n",
      "+--------+\n",
      "\n"
     ]
    }
   ],
   "source": [
    "# Approach :=> 1\n",
    "result = user_flags.join(flag_review, on=\"flag_id\", how=\"inner\")\n",
    "result = result.filter(F.lower(result[\"reviewed_outcome\"]) == \"approved\")\n",
    "result = result.withColumn(\"username\", F.concat(result[\"user_firstname\"], F.lit(\" \"), result[\"user_lastname\"]))\n",
    "result = result.groupby(\"username\").agg(F.countDistinct(\"video_id\").alias(\"video_count\"))\n",
    "result = result.withColumn(\"rank\", F.rank().over(Window.orderBy(F.desc(\"video_count\"))))\n",
    "result = result.filter(result[\"rank\"] == 1).select(\"username\")\n",
    "result.show()"
   ]
  },
  {
   "cell_type": "code",
   "execution_count": 12,
   "metadata": {},
   "outputs": [
    {
     "name": "stdout",
     "output_type": "stream",
     "text": [
      "+--------+\n",
      "|username|\n",
      "+--------+\n",
      "+--------+\n",
      "\n"
     ]
    }
   ],
   "source": [
    "# Approach :=> 2\n",
    "df = (\n",
    "    user_flags.join(flag_review, on=\"flag_id\", how=\"inner\")\n",
    "    .filter(F.col(\"reviewed_outcome\") == \"APPROVED\")\n",
    "    .groupBy(F.col(\"user_firstname\"), F.col(\"user_lastname\"))\n",
    "    .agg(F.countDistinct(\"video_id\").alias(\"total_video_count\"))\n",
    ")\n",
    "\n",
    "# Rank users by total_video_count and Filter to keep only the top-ranked users\n",
    "windowSpec = Window.orderBy(df[\"total_video_count\"].desc())\n",
    "df = df.withColumn(\"rank\", F.dense_rank().over(windowSpec)) \\\n",
    "        .filter(F.col(\"rank\") == 1) \\\n",
    "        .drop(\"total_video_count\", \"rank\")\n",
    "\n",
    "\n",
    "# select all the usernames\n",
    "df = df.select(F.expr(\"user_firstname || ' ' || user_lastname\").alias(\"username\"))\n",
    "\n",
    "df.show()"
   ]
  },
  {
   "cell_type": "code",
   "execution_count": null,
   "metadata": {},
   "outputs": [],
   "source": []
  }
 ],
 "metadata": {
  "kernelspec": {
   "display_name": "venv_pyspark",
   "language": "python",
   "name": "python3"
  },
  "language_info": {
   "codemirror_mode": {
    "name": "ipython",
    "version": 3
   },
   "file_extension": ".py",
   "mimetype": "text/x-python",
   "name": "python",
   "nbconvert_exporter": "python",
   "pygments_lexer": "ipython3",
   "version": "3.9.0"
  }
 },
 "nbformat": 4,
 "nbformat_minor": 2
}
