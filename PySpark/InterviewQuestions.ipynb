{
 "cells": [
  {
   "cell_type": "markdown",
   "metadata": {},
   "source": [
    "### Q1. [User with Most Approved Flags](https://platform.stratascratch.com/coding/2104-user-with-most-approved-flags/official-solution?code_type=6)\n"
   ]
  },
  {
   "cell_type": "code",
   "execution_count": 2,
   "metadata": {},
   "outputs": [],
   "source": [
    "import os\n",
    "import sys\n",
    "\n",
    "os.environ['PYSPARK_PYTHON'] = sys.executable\n",
    "os.environ['PYSPARK_DRIVER_PYTHON'] = sys.executable\n",
    "\n",
    "from pyspark.sql import SparkSession\n",
    "from pyspark.sql import SparkSession\n",
    "\n",
    "\n",
    "# Creating a spark session\n",
    "spark = SparkSession.builder.appName('SparkLearning').getOrCreate()"
   ]
  },
  {
   "cell_type": "code",
   "execution_count": 16,
   "metadata": {},
   "outputs": [],
   "source": [
    "# Import your libraries\n",
    "import pyspark\n",
    "from pyspark.sql import functions as F\n",
    "from pyspark.sql.types import StringType, BooleanType, StructField, StructType, DateType\n",
    "from pyspark.sql.window import Window\n",
    "from InputToDataFrame import convert_input_to_df"
   ]
  },
  {
   "cell_type": "code",
   "execution_count": 30,
   "metadata": {},
   "outputs": [
    {
     "name": "stdout",
     "output_type": "stream",
     "text": [
      "[('Richard', 'Hasson', 'y6120QOlsfU', '0cazx3'), ('Mark', 'May', 'Ct6BUPvE2sM', '1cn76u'), ('Gina', 'Korman', 'dQw4w9WgXcQ', '1i43zk'), ('Mark', 'May', 'Ct6BUPvE2sM', '1n0vef'), ('Mark', 'May', 'jNQXAC9IVRw', '1sv6ib'), ('Gina', 'Korman', 'dQw4w9WgXcQ', '20xekb'), ('Mark', 'May', '5qap5aO4i9A', '4cvwuv')]\n"
     ]
    }
   ],
   "source": [
    "# user_flag_data\n",
    "input_data = '''\n",
    "user_firstname\tuser_lastname\tvideo_id\tflag_id\n",
    "Richard\tHasson\ty6120QOlsfU\t0cazx3\n",
    "Mark\tMay\tCt6BUPvE2sM\t1cn76u\n",
    "Gina\tKorman\tdQw4w9WgXcQ\t1i43zk\n",
    "Mark\tMay\tCt6BUPvE2sM\t1n0vef\n",
    "Mark\tMay\tjNQXAC9IVRw\t1sv6ib\n",
    "Gina\tKorman\tdQw4w9WgXcQ\t20xekb\n",
    "Mark\tMay\t5qap5aO4i9A\t4cvwuv\n",
    "'''\n",
    "\n",
    "\n",
    "user_flags_data = convert_input_to_df(input_data)\n",
    "print(user_flags_data)"
   ]
  },
  {
   "cell_type": "code",
   "execution_count": 21,
   "metadata": {},
   "outputs": [
    {
     "name": "stdout",
     "output_type": "stream",
     "text": [
      "[('1cn76u', 'TRUE', '2022-03-15', 'REMOVED'), ('1i43zk', 'TRUE', '2022-03-15', 'REMOVED'), ('1n0vef', 'TRUE', '2022-03-15', 'REMOVED'), ('1sv6ib', 'TRUE', '2022-03-15', 'APPROVED'), ('20xekb', 'TRUE', '2022-03-17', 'REMOVED'), ('4cvwuv', 'TRUE', '2022-03-15', 'APPROVED')]\n"
     ]
    }
   ],
   "source": [
    "input_data = '''\n",
    "0cazx3\tFALSE\t\t\n",
    "1cn76u\tTRUE\t2022-03-15\tREMOVED\n",
    "1i43zk\tTRUE\t2022-03-15\tREMOVED\n",
    "1n0vef\tTRUE\t2022-03-15\tREMOVED\n",
    "1sv6ib\tTRUE\t2022-03-15\tAPPROVED\n",
    "20xekb\tTRUE\t2022-03-17\tREMOVED\n",
    "4cvwuv\tTRUE\t2022-03-15\tAPPROVED\t\n",
    "4sd6dv\tTRUE\t2022-03-14\tREMOVED\n",
    "6jjkvn\tTRUE\t2022-03-16\tAPPROVED\n",
    "7ks264\tTRUE\t2022-03-15\tAPPROVED\n",
    "'''\n",
    "\n",
    "flag_review_data = convert_input_to_df(input_data)\n",
    "print(flag_review_data)"
   ]
  },
  {
   "cell_type": "code",
   "execution_count": 35,
   "metadata": {},
   "outputs": [
    {
     "name": "stdout",
     "output_type": "stream",
     "text": [
      "root\n",
      " |-- user_firstname: string (nullable = true)\n",
      " |-- user_lastname: string (nullable = true)\n",
      " |-- video_id: string (nullable = true)\n",
      " |-- flag_id: string (nullable = true)\n",
      "\n",
      "+--------------+-------------+-----------+-------+\n",
      "|user_firstname|user_lastname|   video_id|flag_id|\n",
      "+--------------+-------------+-----------+-------+\n",
      "|       Richard|       Hasson|y6120QOlsfU| 0cazx3|\n",
      "|          Mark|          May|Ct6BUPvE2sM| 1cn76u|\n",
      "|          Gina|       Korman|dQw4w9WgXcQ| 1i43zk|\n",
      "|          Mark|          May|Ct6BUPvE2sM| 1n0vef|\n",
      "|          Mark|          May|jNQXAC9IVRw| 1sv6ib|\n",
      "|          Gina|       Korman|dQw4w9WgXcQ| 20xekb|\n",
      "|          Mark|          May|5qap5aO4i9A| 4cvwuv|\n",
      "+--------------+-------------+-----------+-------+\n",
      "\n",
      "==============================\n",
      "root\n",
      " |-- flag_id: string (nullable = true)\n",
      " |-- reviewed_by_yt: string (nullable = true)\n",
      " |-- reviewed_date: string (nullable = true)\n",
      " |-- reviewed_outcome: string (nullable = true)\n",
      "\n",
      "+-------+--------------+-------------+----------------+\n",
      "|flag_id|reviewed_by_yt|reviewed_date|reviewed_outcome|\n",
      "+-------+--------------+-------------+----------------+\n",
      "| 1cn76u|          TRUE|   2022-03-15|         REMOVED|\n",
      "| 1i43zk|          TRUE|   2022-03-15|         REMOVED|\n",
      "| 1n0vef|          TRUE|   2022-03-15|         REMOVED|\n",
      "| 1sv6ib|          TRUE|   2022-03-15|        APPROVED|\n",
      "| 20xekb|          TRUE|   2022-03-17|         REMOVED|\n",
      "| 4cvwuv|          TRUE|   2022-03-15|        APPROVED|\n",
      "+-------+--------------+-------------+----------------+\n",
      "\n"
     ]
    }
   ],
   "source": [
    "# DataFrames\n",
    "user_flags_schema = StructType([\n",
    "    StructField(\"user_firstname\", StringType(), nullable=True),\n",
    "    StructField(\"user_lastname\", StringType(), nullable=True),\n",
    "    StructField(\"video_id\", StringType(), nullable=True),\n",
    "    StructField(\"flag_id\", StringType(), nullable=True)\n",
    "])\n",
    "\n",
    "flag_review_schema = StructType([\n",
    "    StructField(\"flag_id\", StringType(), nullable=True),\n",
    "    StructField(\"reviewed_by_yt\", StringType(), nullable=True),\n",
    "    StructField(\"reviewed_date\", StringType(), nullable=True),\n",
    "    StructField(\"reviewed_outcome\", StringType(), nullable=True)\n",
    "])\n",
    "\n",
    "user_flags = spark.createDataFrame(user_flags_data, schema=user_flags_schema)\n",
    "user_flags.printSchema()\n",
    "user_flags.show()\n",
    "\n",
    "print(\"=\" * 30)\n",
    "\n",
    "flag_review = spark.createDataFrame(flag_review_data, schema=flag_review_schema)\n",
    "flag_review.printSchema()\n",
    "flag_review.show()"
   ]
  },
  {
   "cell_type": "code",
   "execution_count": 33,
   "metadata": {},
   "outputs": [
    {
     "name": "stdout",
     "output_type": "stream",
     "text": [
      "+--------+\n",
      "|username|\n",
      "+--------+\n",
      "|Mark May|\n",
      "+--------+\n",
      "\n"
     ]
    }
   ],
   "source": [
    "# Approach :=> 1\n",
    "result = user_flags.join(flag_review, on=\"flag_id\", how=\"inner\")\n",
    "result = result.filter(F.lower(result[\"reviewed_outcome\"]) == \"approved\")\n",
    "result = result.withColumn(\"username\", F.concat(result[\"user_firstname\"], F.lit(\" \"), result[\"user_lastname\"]))\n",
    "result = result.groupby(\"username\").agg(F.countDistinct(\"video_id\").alias(\"video_count\"))\n",
    "result = result.withColumn(\"rank\", F.rank().over(Window.orderBy(F.desc(\"video_count\"))))\n",
    "result = result.filter(result[\"rank\"] == 1).select(\"username\")\n",
    "result.show()"
   ]
  },
  {
   "cell_type": "code",
   "execution_count": 34,
   "metadata": {},
   "outputs": [
    {
     "name": "stdout",
     "output_type": "stream",
     "text": [
      "+--------+\n",
      "|username|\n",
      "+--------+\n",
      "|Mark May|\n",
      "+--------+\n",
      "\n"
     ]
    }
   ],
   "source": [
    "# Approach :=> 2\n",
    "df = (\n",
    "    user_flags.join(flag_review, on=\"flag_id\", how=\"inner\")\n",
    "    .filter(F.col(\"reviewed_outcome\") == \"APPROVED\")\n",
    "    .groupBy(F.col(\"user_firstname\"), F.col(\"user_lastname\"))\n",
    "    .agg(F.countDistinct(\"video_id\").alias(\"total_video_count\"))\n",
    ")\n",
    "\n",
    "# Rank users by total_video_count and Filter to keep only the top-ranked users\n",
    "windowSpec = Window.orderBy(df[\"total_video_count\"].desc())\n",
    "df = df.withColumn(\"rank\", F.dense_rank().over(windowSpec)) \\\n",
    "        .filter(F.col(\"rank\") == 1) \\\n",
    "        .drop(\"total_video_count\", \"rank\")\n",
    "\n",
    "\n",
    "# select all the usernames\n",
    "df = df.select(F.expr(\"user_firstname || ' ' || user_lastname\").alias(\"username\"))\n",
    "\n",
    "df.show()"
   ]
  },
  {
   "cell_type": "markdown",
   "metadata": {},
   "source": [
    "# Q2."
   ]
  },
  {
   "cell_type": "code",
   "execution_count": null,
   "metadata": {},
   "outputs": [],
   "source": []
  },
  {
   "cell_type": "code",
   "execution_count": null,
   "metadata": {},
   "outputs": [],
   "source": []
  },
  {
   "cell_type": "code",
   "execution_count": null,
   "metadata": {},
   "outputs": [],
   "source": []
  }
 ],
 "metadata": {
  "kernelspec": {
   "display_name": "venv_pyspark",
   "language": "python",
   "name": "python3"
  },
  "language_info": {
   "codemirror_mode": {
    "name": "ipython",
    "version": 3
   },
   "file_extension": ".py",
   "mimetype": "text/x-python",
   "name": "python",
   "nbconvert_exporter": "python",
   "pygments_lexer": "ipython3",
   "version": "3.9.0"
  }
 },
 "nbformat": 4,
 "nbformat_minor": 2
}
