{
 "cells": [
  {
   "cell_type": "markdown",
   "metadata": {},
   "source": [
    "# 1. Basics of Regex\n",
    "\n",
    "Regex is essentially a sequence of characters that define a search pattern. In Python, regex patterns are typically used with the re module."
   ]
  },
  {
   "cell_type": "code",
   "execution_count": 1,
   "metadata": {},
   "outputs": [],
   "source": [
    "import re"
   ]
  },
  {
   "cell_type": "code",
   "execution_count": 7,
   "metadata": {},
   "outputs": [
    {
     "name": "stdout",
     "output_type": "stream",
     "text": [
      "['apple', 'apple']\n",
      "<re.Match object; span=(10, 15), match='apple'>\n"
     ]
    }
   ],
   "source": [
    "#  Matching Literal Strings\n",
    "pattern = \"apple\"\n",
    "text = \"I have an apple and an orange. apple\"\n",
    "\n",
    "match = re.search(pattern, text)\n",
    "findall = re.findall(pattern, text)\n",
    "print(findall)\n",
    "print(match)\n"
   ]
  },
  {
   "cell_type": "markdown",
   "metadata": {},
   "source": [
    "# Special Characters\n",
    "In regex, some characters have special meanings:\n",
    "\n",
    "   - . (dot) - Matches any single character (except newline).\n",
    "   - \\d - Matches any digit (0-9).\n",
    "   - \\D - Matches any non-digit character.\n",
    "   - \\w - Matches any alphanumeric character (a-z, A-Z, 0-9, _).\n",
    "   - \\W - Matches any non-alphanumeric character.\n",
    "   - \\s - Matches any whitespace (space, tab, newline).\n",
    "   - \\S - Matches any non-whitespace character."
   ]
  },
  {
   "cell_type": "code",
   "execution_count": 13,
   "metadata": {},
   "outputs": [
    {
     "name": "stdout",
     "output_type": "stream",
     "text": [
      "<re.Match object; span=(14, 17), match='123'>\n",
      "True\n"
     ]
    }
   ],
   "source": [
    "pattern = r\"\\d\\d\\d\"  # Matches exactly three digits\n",
    "text = \"The number is 123.\"\n",
    "match = re.search(pattern, text)\n",
    "print(match)\n",
    "print(bool(match))  # Finds \"123\"\n"
   ]
  },
  {
   "cell_type": "markdown",
   "metadata": {},
   "source": [
    "# Quantifiers\n",
    "\n",
    "##### Quantifiers specify how many times a character or group should appear.\n",
    "\n",
    "   - *(star) => Matches 0 or more times.\n",
    "   - +(plus) => Matches 1 or more times.\n",
    "   - ? => Matches 0 or 1 time.\n",
    "   - {n} => Matches exactly n times.\n",
    "   - {n,} => Matches n or more times.\n",
    "   - {n,m} => Matches between n and m times."
   ]
  },
  {
   "cell_type": "code",
   "execution_count": 14,
   "metadata": {},
   "outputs": [
    {
     "name": "stdout",
     "output_type": "stream",
     "text": [
      "<re.Match object; span=(6, 10), match='2023'>\n"
     ]
    }
   ],
   "source": [
    "pattern = r\"\\d{2,4}\"  # Matches 2 to 4 digits\n",
    "text = \"Year: 2023\"\n",
    "match = re.search(pattern, text)\n",
    "print(match)  # Finds \"2023\"\n"
   ]
  },
  {
   "cell_type": "markdown",
   "metadata": {},
   "source": [
    "# Anchors\n",
    "\n",
    "Anchors match positions within the text, not characters.\n",
    "\n",
    "   - ^ - Matches the start of a string.\n",
    "   - $ - Matches the end of a string.\n",
    "   - \\b - Matches a word boundary.\n",
    "   - \\B - Matches a position that is not a word boundary."
   ]
  },
  {
   "cell_type": "code",
   "execution_count": null,
   "metadata": {},
   "outputs": [
    {
     "name": "stdout",
     "output_type": "stream",
     "text": [
      "<re.Match object; span=(0, 5), match='Hello'>\n"
     ]
    }
   ],
   "source": [
    "pattern = r\"^Hello\"  # Matches if the string starts with \"Hello\"\n",
    "text = \"Hello, world!\"\n",
    "match = re.search(pattern, text)\n",
    "print(match)  # Finds \"Hello\" at the start of the string\n"
   ]
  },
  {
   "cell_type": "markdown",
   "metadata": {},
   "source": [
    "# Character Classes\n",
    "\n",
    "Character classes allow you to match one of a set of characters.\n",
    "\n",
    "   - [abc] - Matches a, b, or c.\n",
    "   - [a-z] - Matches any lowercase letter.\n",
    "   - [^abc] - Matches anything except a, b, or c."
   ]
  },
  {
   "cell_type": "code",
   "execution_count": 23,
   "metadata": {},
   "outputs": [
    {
     "name": "stdout",
     "output_type": "stream",
     "text": [
      "['a', 'e']\n"
     ]
    }
   ],
   "source": [
    "pattern = r\"[aeiou]\"  # Matches any vowel\n",
    "text = \"apple12\"\n",
    "matches = re.findall(pattern, text)\n",
    "print(matches)  # Finds ['a', 'e']\n"
   ]
  },
  {
   "cell_type": "markdown",
   "metadata": {},
   "source": [
    "# Groups and Capturing\n",
    "\n",
    "Grouping allows you to capture parts of a match, which is useful for extracting substrings.\n",
    "\n",
    "   - (abc) => Groups together abc.\n",
    "   - (?:abc) => Non-capturing group; groups without capturing.\n",
    "   - (?P<name>abc) => Named capturing group, allowing you to access the group by name."
   ]
  },
  {
   "cell_type": "code",
   "execution_count": 24,
   "metadata": {},
   "outputs": [
    {
     "name": "stdout",
     "output_type": "stream",
     "text": [
      "('123', '456')\n"
     ]
    }
   ],
   "source": [
    "pattern = r\"(\\d+)-(\\d+)\"  # Captures two groups of digits separated by a dash\n",
    "text = \"Phone number: 123-456\"\n",
    "match = re.search(pattern, text)\n",
    "print(match.groups())  # Outputs ('123', '456')\n"
   ]
  },
  {
   "cell_type": "markdown",
   "metadata": {},
   "source": [
    "# Lookaheads and Lookbehinds\n",
    "\n",
    "Lookaheads and lookbehinds allow you to match a pattern based on what's ahead or behind it, without including those in the match.\n",
    "\n",
    "   - Lookahead: (?=...) (positive) or (?!...) (negative)\n",
    "   - Lookbehind: (?<=...) (positive) or (?<!...) (negative)"
   ]
  },
  {
   "cell_type": "code",
   "execution_count": 25,
   "metadata": {},
   "outputs": [
    {
     "name": "stdout",
     "output_type": "stream",
     "text": [
      "<re.Match object; span=(7, 10), match='100'>\n"
     ]
    }
   ],
   "source": [
    "pattern = r\"\\d+(?= dollars)\"  # Matches digits followed by \"dollars\"\n",
    "text = \"Price: 100 dollars\"\n",
    "match = re.search(pattern, text)\n",
    "print(match)  # Finds \"100\""
   ]
  },
  {
   "cell_type": "markdown",
   "metadata": {},
   "source": [
    "# Regex Flags\n",
    "\n",
    "Flags modify the behavior of the regex.\n",
    "\n",
    "   - re.IGNORECASE (re.I) - Case-insensitive matching.\n",
    "   - re.MULTILINE (re.M) - ^ and $ match the start/end of each line.\n",
    "   - re.DOTALL (re.S) - Dot . matches newline as well."
   ]
  },
  {
   "cell_type": "code",
   "execution_count": 26,
   "metadata": {},
   "outputs": [
    {
     "name": "stdout",
     "output_type": "stream",
     "text": [
      "<re.Match object; span=(0, 5), match='Hello'>\n"
     ]
    }
   ],
   "source": [
    "pattern = r\"hello\"\n",
    "text = \"Hello\"\n",
    "match = re.search(pattern, text, re.IGNORECASE)  # Case-insensitive search\n",
    "print(match)  # Finds \"Hello\" because of IGNORECASE flag"
   ]
  },
  {
   "cell_type": "code",
   "execution_count": null,
   "metadata": {},
   "outputs": [
    {
     "name": "stdout",
     "output_type": "stream",
     "text": [
      "True\n"
     ]
    }
   ],
   "source": [
    "# Practical Examples\n",
    "\n",
    "# Validating an Email Address\n",
    "\n",
    "pattern = r\"^[\\w\\.-]+@[\\w\\.-]+\\.\\w+$\"\n",
    "email = \"d.debasish003@gmail.com\"\n",
    "is_valid = re.match(pattern, email)\n",
    "print(bool(is_valid))  # True if valid, False otherwise\n",
    "\n"
   ]
  },
  {
   "cell_type": "code",
   "execution_count": 31,
   "metadata": {},
   "outputs": [
    {
     "name": "stdout",
     "output_type": "stream",
     "text": [
      "['12-05-2023']\n"
     ]
    }
   ],
   "source": [
    "# Extracting Dates (dd-mm-yyyy format)\n",
    "\n",
    "pattern = r\"\\b\\d{2}-\\d{2}-\\d{4}\\b\"\n",
    "text = \"The event is on 12-05-2023.\"\n",
    "dates = re.findall(pattern, text)\n",
    "print(dates)  # ['12-05-2023']\n"
   ]
  },
  {
   "cell_type": "code",
   "execution_count": 32,
   "metadata": {},
   "outputs": [
    {
     "name": "stdout",
     "output_type": "stream",
     "text": [
      "['John', 'New', 'York']\n"
     ]
    }
   ],
   "source": [
    "# Extracting All Words Starting with a Capital Letter\n",
    "\n",
    "pattern = r\"\\b[A-Z][a-z]*\\b\"\n",
    "text = \"John went to New York.\"\n",
    "capitalized_words = re.findall(pattern, text)\n",
    "print(capitalized_words)  # ['John', 'New', 'York']\n"
   ]
  },
  {
   "cell_type": "code",
   "execution_count": null,
   "metadata": {},
   "outputs": [],
   "source": [
    "# Example 1:\n",
    "# In a linux vm , we have list of log files, search for : Processed Record {name: anyname, type:shirt,....} . \n",
    "# Find the no of occurence of above pattern in each file and print\n",
    "\n",
    "import os\n",
    "import re\n",
    "\n",
    "def count_pattern_in_logs(directory, pattern):\n",
    "    # Compile the regex pattern for efficiency\n",
    "    regex = re.compile(pattern)\n",
    "    \n",
    "    # Iterate over all log files in the directory\n",
    "    for filename in os.listdir(directory):\n",
    "        if filename.endswith(\".log\"):  # Check if the file is a .log file\n",
    "            file_path = os.path.join(directory, filename)\n",
    "            try:\n",
    "                # Open and read the log file\n",
    "                with open(file_path, 'r') as file:\n",
    "                    content = file.read()\n",
    "                \n",
    "                # Find all matches of the pattern in the file\n",
    "                matches = regex.findall(content)\n",
    "                # Print the count of matches\n",
    "                print(f\"File: {filename} - Count: {len(matches)}\")\n",
    "            \n",
    "            except Exception as e:\n",
    "                print(f\"Error reading {filename}: {e}\")\n",
    "\n",
    "# Define the directory containing log files and the search pattern\n",
    "log_directory = \"/path/to/log/files\"\n",
    "search_pattern = r\"Processed Record \\{name:.*?type:shirt.*?\\}\"\n",
    "\n",
    "# Call the function\n",
    "count_pattern_in_logs(log_directory, search_pattern)"
   ]
  },
  {
   "cell_type": "code",
   "execution_count": null,
   "metadata": {},
   "outputs": [],
   "source": [
    "# Example 2:\n",
    "# Given a file consisting of many lines, each line consisting of many words, find longest word that matches a given pattern. \n",
    "# (No constraints provided, no optimisation needed, as mentioned above, focus was on code structure, maintainability and extensibility)\n",
    "\n",
    "import re\n",
    "from typing import Optional\n",
    "\n",
    "class LongestWordFinder:\n",
    "    def __init__(self, file_path: str, pattern: str):\n",
    "        \"\"\"\n",
    "        Initialize the finder with the file path and regex pattern.\n",
    "\n",
    "        :param file_path: Path to the text file.\n",
    "        :param pattern: Regex pattern to match words.\n",
    "        \"\"\"\n",
    "        self.file_path = file_path\n",
    "        self.pattern = re.compile(pattern)\n",
    "\n",
    "    def find_longest_word(self) -> Optional[str]:\n",
    "        \"\"\"\n",
    "        Find the longest word in the file matching the pattern.\n",
    "\n",
    "        :return: The longest matching word or None if no match is found.\n",
    "        \"\"\"\n",
    "        longest_word = None\n",
    "\n",
    "        try:\n",
    "            with open(self.file_path, 'r') as file:\n",
    "                for line in file:\n",
    "                    words = line.split()\n",
    "                    for word in words:\n",
    "                        if self.pattern.fullmatch(word):\n",
    "                            if longest_word is None or len(word) > len(longest_word):\n",
    "                                longest_word = word\n",
    "        except FileNotFoundError:\n",
    "            print(f\"Error: The file '{self.file_path}' was not found.\")\n",
    "            return None\n",
    "        except Exception as e:\n",
    "            print(f\"An error occurred: {e}\")\n",
    "            return None\n",
    "\n",
    "        return longest_word\n",
    "\n",
    "# Example usage\n",
    "if __name__ == \"__main__\":\n",
    "    # Input: Path to the file and regex pattern\n",
    "    file_path = \"sample.txt\"\n",
    "    pattern = r\"[a-zA-Z]+\"  # Example pattern to match only alphabetic words\n",
    "\n",
    "    # Create an instance of the finder\n",
    "    finder = LongestWordFinder(file_path, pattern)\n",
    "\n",
    "    # Find and print the longest matching word\n",
    "    result = finder.find_longest_word()\n",
    "    if result:\n",
    "        print(f\"The longest matching word is: {result}\")\n",
    "    else:\n",
    "        print(\"No matching word found.\")\n"
   ]
  }
 ],
 "metadata": {
  "kernelspec": {
   "display_name": "venv",
   "language": "python",
   "name": "python3"
  },
  "language_info": {
   "codemirror_mode": {
    "name": "ipython",
    "version": 3
   },
   "file_extension": ".py",
   "mimetype": "text/x-python",
   "name": "python",
   "nbconvert_exporter": "python",
   "pygments_lexer": "ipython3",
   "version": "3.11.6"
  }
 },
 "nbformat": 4,
 "nbformat_minor": 2
}
