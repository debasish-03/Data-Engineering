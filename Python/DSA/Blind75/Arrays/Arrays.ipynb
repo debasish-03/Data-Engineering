{
 "cells": [
  {
   "cell_type": "markdown",
   "metadata": {},
   "source": [
    "# Q1. [Two Sum](https://leetcode.com/problems/two-sum/description/)"
   ]
  },
  {
   "cell_type": "code",
   "execution_count": null,
   "metadata": {},
   "outputs": [],
   "source": [
    "class Solution:\n",
    "    def twoSum(self, nums: List[int], target: int) -> List[int]:\n",
    "        sums: dict = {}\n",
    "        for i in range(len(nums)):\n",
    "            sum = target - nums[i]\n",
    "            if sum in sums:\n",
    "                return i, sums.get(sum)\n",
    "                \n",
    "            sums[nums[i]] = i\n",
    "        \n",
    "        return None"
   ]
  },
  {
   "cell_type": "markdown",
   "metadata": {},
   "source": [
    "# Q2. [Best Time to Buy and Sell Stock](https://leetcode.com/problems/best-time-to-buy-and-sell-stock/description/)"
   ]
  },
  {
   "cell_type": "code",
   "execution_count": null,
   "metadata": {},
   "outputs": [],
   "source": [
    "class Solution:\n",
    "    def maxProfit(self, prices: List[int]) -> int:\n",
    "        max_profit = 0\n",
    "        buy = prices[0]\n",
    "        for price in prices:\n",
    "            buy = min(price, buy)\n",
    "            max_profit = max(max_profit, price - buy) \n",
    "\n",
    "        return max_profit   \n",
    "\n",
    "        "
   ]
  }
 ],
 "metadata": {
  "language_info": {
   "name": "python"
  }
 },
 "nbformat": 4,
 "nbformat_minor": 2
}
